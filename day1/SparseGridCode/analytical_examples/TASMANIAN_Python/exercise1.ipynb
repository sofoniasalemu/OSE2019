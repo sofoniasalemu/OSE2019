{
 "cells": [
  {
   "cell_type": "markdown",
   "metadata": {},
   "source": [
    "# Exercise 1"
   ]
  },
  {
   "cell_type": "code",
   "execution_count": 1,
   "metadata": {
    "collapsed": false
   },
   "outputs": [],
   "source": [
    "import TasmanianSG\n",
    "import numpy as np\n",
    "\n",
    "# imports specifically needed by the examples\n",
    "import math\n",
    "from random import uniform\n",
    "from datetime import datetime\n",
    "from matplotlib import pyplot as plt\n"
   ]
  },
  {
   "cell_type": "code",
   "execution_count": 2,
   "metadata": {
    "collapsed": true
   },
   "outputs": [],
   "source": [
    "#####  BASE\n",
    "\n",
    "no_pts=1000\n",
    "no_dim=1\n",
    "c=np.ones(no_dim)\n",
    "w=np.ones(no_dim)\n",
    "aPnts = np.empty([no_pts, no_dim])\n",
    "for iI in range(no_pts):\n",
    "    for iJ in range(no_dim):\n",
    "        aPnts[iI][iJ] = uniform(-1.0, 1.0)\n",
    "        \n",
    "# Result\n",
    "aTres = np.empty([no_pts,])\n",
    "for iI in range(no_pts):\n",
    "    aTres[iI] = math.cos(2*math.pi*w[0]+np.matmul(c,aPnts[iI,:]))\n",
    "    "
   ]
  },
  {
   "cell_type": "code",
   "execution_count": 3,
   "metadata": {
    "collapsed": true
   },
   "outputs": [],
   "source": [
    "#############################  FIXED GRID ###############################\n",
    "\n",
    "grid  = TasmanianSG.TasmanianSparseGrid()   \n",
    "    \n",
    "# Sparse Grid with dimension 2 and 1 output and refinement level 5\n",
    "iDim = no_dim\n",
    "iOut = 1\n",
    "iDepth = 10\n",
    "which_basis = 1 #1= linear basis functions -> Check the manual for other options\n",
    "\n",
    "fError_fixed=np.empty([iDepth,])\n",
    "iNumP1_fixed=np.empty([iDepth,])"
   ]
  },
  {
   "cell_type": "code",
   "execution_count": 4,
   "metadata": {
    "collapsed": false
   },
   "outputs": [
    {
     "name": "stdout",
     "output_type": "stream",
     "text": [
      " No:        1 No Pts: 1.000000e+00  Max Err: 4.59e-01\n",
      " No:        2 No Pts: 3.000000e+00  Max Err: 1.08e-01\n",
      " No:        3 No Pts: 5.000000e+00  Max Err: 3.01e-02\n",
      " No:        4 No Pts: 9.000000e+00  Max Err: 7.74e-03\n",
      " No:        5 No Pts: 1.700000e+01  Max Err: 1.95e-03\n",
      " No:        6 No Pts: 3.300000e+01  Max Err: 4.88e-04\n",
      " No:        7 No Pts: 6.500000e+01  Max Err: 1.22e-04\n",
      " No:        8 No Pts: 1.290000e+02  Max Err: 3.05e-05\n",
      " No:        9 No Pts: 2.570000e+02  Max Err: 7.63e-06\n",
      " No:       10 No Pts: 5.130000e+02  Max Err: 1.90e-06\n"
     ]
    }
   ],
   "source": [
    "# construct sparse grid\n",
    "for iK in range(iDepth):\n",
    "    grid.makeLocalPolynomialGrid(iDim, iOut, iK, which_basis, \"localp\")\n",
    "    aPoints = grid.getPoints()\n",
    "    iNumP1_fixed[iK] = grid.getNumPoints()\n",
    "    aVals = np.empty([aPoints.shape[0], 1])\n",
    "    for iI in range(aPoints.shape[0]):\n",
    "        aVals[iI] = math.cos(2*math.pi*w[0]+np.matmul(c,aPoints[iI,:]))\n",
    "    grid.loadNeededPoints(aVals)\n",
    "    # compute the error\n",
    "    aRes = grid.evaluateBatch(aPnts)\n",
    "    fError_fixed[iK] = max(np.fabs(aRes[:,0] - aTres))\n",
    "    print(\" No:{0:9d} No Pts: {1:9e}  Max Err: {2:1.2e}\".format(iK+1,iNumP1_fixed[iK], fError_fixed[iK]))"
   ]
  },
  {
   "cell_type": "code",
   "execution_count": 5,
   "metadata": {
    "collapsed": false
   },
   "outputs": [
    {
     "data": {
      "image/png": "[encoded data removed]",
      "text/plain": [
       "<Figure size 432x288 with 1 Axes>"
      ]
     },
     "metadata": {},
     "output_type": "display_data"
    }
   ],
   "source": [
    "plt.figure(1)\n",
    "plt.plot(range(iDepth),fError_fixed)\n",
    "plt.xlabel(\"Depth\")\n",
    "plt.ylabel(\"Error\")\n",
    "plt.title(\"Fixed grid\")\n",
    "plt.show()   "
   ]
  },
  {
   "cell_type": "code",
   "execution_count": 8,
   "metadata": {
    "collapsed": false
   },
   "outputs": [],
   "source": [
    "############################# ADAPTIVE GRID  ######################################\n",
    "\n",
    "iDim = no_dim\n",
    "iOut = 1\n",
    "iDepth = 1\n",
    "which_basis = 1 #1= linear basis functions -> Check the manual for other options\n",
    "refinement_level = 9\n",
    "fTol = 1.E-5\n",
    "\n",
    "grid1 = TasmanianSG.TasmanianSparseGrid()\n",
    "\n",
    "grid1.makeLocalPolynomialGrid(iDim, iOut, iDepth, which_basis, \"localp\")\n",
    "aPoints = grid1.getPoints()\n",
    "aVals = np.empty([aPoints.shape[0], 1])\n",
    "for iI in range(aPoints.shape[0]):\n",
    "    aVals[iI] = math.cos(2*math.pi*w[0]+np.matmul(c,aPoints[iI,:]))\n",
    "grid1.loadNeededPoints(aVals)\n",
    "aRes = grid1.evaluateBatch(aPnts)\n",
    "\n",
    "    \n",
    "fError_adaptive=np.empty([refinement_level+1,])\n",
    "iNumP1_adaptive=np.empty([refinement_level+1,])\n",
    "iNumP1_adaptive[0] = grid1.getNumPoints()\n",
    "fError_adaptive[0] = max(np.fabs(aRes[:,0] - aTres))"
   ]
  },
  {
   "cell_type": "code",
   "execution_count": 9,
   "metadata": {
    "collapsed": false
   },
   "outputs": [
    {
     "name": "stdout",
     "output_type": "stream",
     "text": [
      " No:        1 No Pts: 4.000000e+00  Max Err: 1.08e-01\n",
      " No:        2 No Pts: 5.000000e+00  Max Err: 3.01e-02\n",
      " No:        3 No Pts: 7.000000e+00  Max Err: 3.01e-02\n",
      " No:        4 No Pts: 1.100000e+01  Max Err: 7.74e-03\n",
      " No:        5 No Pts: 1.900000e+01  Max Err: 1.95e-03\n",
      " No:        6 No Pts: 3.500000e+01  Max Err: 4.88e-04\n",
      " No:        7 No Pts: 6.700000e+01  Max Err: 1.22e-04\n",
      " No:        8 No Pts: 1.310000e+02  Max Err: 3.05e-05\n",
      " No:        9 No Pts: 2.590000e+02  Max Err: 7.63e-06\n"
     ]
    }
   ],
   "source": [
    "for iK in range(refinement_level):\n",
    "    grid1.setSurplusRefinement(fTol, 1, \"fds\")   #also use fds, or other rules\n",
    "    aPoints = grid1.getNeededPoints()\n",
    "    aVals = np.empty([aPoints.shape[0], 1])\n",
    "    for iI in range(aPoints.shape[0]):\n",
    "        aVals[iI] = math.cos(2*math.pi*w[0]+np.matmul(c,aPoints[iI,:]))\n",
    "    grid1.loadNeededPoints(aVals)\n",
    "    iNumP1_adaptive[iK+1] = grid1.getNumPoints()\n",
    "    aRes = grid1.evaluateBatch(aPnts)\n",
    "    fError_adaptive[iK+1] = max(np.fabs(aRes[:,0] - aTres))\n",
    "    print(\" No:{0:9d} No Pts: {1:9e}  Max Err: {2:1.2e}\".format(iK+1, iNumP1_adaptive[iK+1], fError_adaptive[iK+1]))"
   ]
  },
  {
   "cell_type": "code",
   "execution_count": 11,
   "metadata": {
    "collapsed": false
   },
   "outputs": [
    {
     "data": {
      "image/png": "[encoded data removed]",
      "text/plain": [
       "<Figure size 432x288 with 1 Axes>"
      ]
     },
     "metadata": {},
     "output_type": "display_data"
    }
   ],
   "source": [
    "plt.figure(2)\n",
    "plt.plot(range(refinement_level+1),fError_adaptive)\n",
    "plt.xlabel(\"refinement\")\n",
    "plt.ylabel(\"Error\")\n",
    "plt.title(\"Adaptive grid\")\n",
    "plt.show()\n"
   ]
  }
 ],
 "metadata": {
  "kernelspec": {
   "display_name": "Python 2",
   "language": "python",
   "name": "python2"
  },
  "language_info": {
   "codemirror_mode": {
    "name": "ipython",
    "version": 2
   },
   "file_extension": ".py",
   "mimetype": "text/x-python",
   "name": "python",
   "nbconvert_exporter": "python",
   "pygments_lexer": "ipython2",
   "version": "2.7.12"
  }
 },
 "nbformat": 4,
 "nbformat_minor": 2
}
