{
 "cells": [
  {
   "cell_type": "code",
   "execution_count": 3,
   "metadata": {
    "collapsed": true
   },
   "outputs": [],
   "source": [
    "#Exercise 2"
   ]
  },
  {
   "cell_type": "code",
   "execution_count": 1,
   "metadata": {
    "collapsed": false
   },
   "outputs": [],
   "source": [
    "import nonlinear_solver_initial as solver     #solves opt. problems for terminal VF\n",
    "import nonlinear_solver_iterate as solviter   #solves opt. problems during VFI\n",
    "from parameters import *                      #parameters of model\n",
    "import interpolation as interpol              #interface to sparse grid library/terminal VF\n",
    "import interpolation_iter as interpol_iter    #interface to sparse grid library/iteration\n",
    "import postprocessing as post                 #computes the L2 and Linfinity error of the model\n",
    "\n",
    "import TasmanianSG                            #sparse grid library\n",
    "import numpy as np"
   ]
  },
  {
   "cell_type": "code",
   "execution_count": 5,
   "metadata": {
    "collapsed": true
   },
   "outputs": [],
   "source": [
    "#   FIXED SPARSE GRID"
   ]
  },
  {
   "cell_type": "code",
   "execution_count": 2,
   "metadata": {
    "collapsed": false
   },
   "outputs": [
    {
     "ename": "OSError",
     "evalue": "../../TasmanianSparseGrids/libtasmaniansparsegrid.so: cannot open shared object file: No such file or directory",
     "output_type": "error",
     "traceback": [
      "\u001b[0;31m---------------------------------------------------------------------------\u001b[0m",
      "\u001b[0;31mOSError\u001b[0m                                   Traceback (most recent call last)",
      "\u001b[0;32m<ipython-input-2-98588820facc>\u001b[0m in \u001b[0;36m<module>\u001b[0;34m()\u001b[0m\n\u001b[1;32m      3\u001b[0m \u001b[0;34m\u001b[0m\u001b[0m\n\u001b[1;32m      4\u001b[0m \u001b[0;31m# terminal value function\u001b[0m\u001b[0;34m\u001b[0m\u001b[0;34m\u001b[0m\u001b[0m\n\u001b[0;32m----> 5\u001b[0;31m \u001b[0mvalnew\u001b[0m\u001b[0;34m=\u001b[0m\u001b[0mTasmanianSG\u001b[0m\u001b[0;34m.\u001b[0m\u001b[0mTasmanianSparseGrid\u001b[0m\u001b[0;34m(\u001b[0m\u001b[0;34m)\u001b[0m\u001b[0;34m\u001b[0m\u001b[0m\n\u001b[0m\u001b[1;32m      6\u001b[0m \u001b[0;32mif\u001b[0m \u001b[0;34m(\u001b[0m\u001b[0mnumstart\u001b[0m\u001b[0;34m==\u001b[0m\u001b[0;36m0\u001b[0m\u001b[0;34m)\u001b[0m\u001b[0;34m:\u001b[0m\u001b[0;34m\u001b[0m\u001b[0m\n\u001b[1;32m      7\u001b[0m     \u001b[0mvalnew\u001b[0m\u001b[0;34m=\u001b[0m\u001b[0minterpol\u001b[0m\u001b[0;34m.\u001b[0m\u001b[0msparse_grid\u001b[0m\u001b[0;34m(\u001b[0m\u001b[0mn_agents\u001b[0m\u001b[0;34m,\u001b[0m \u001b[0miDepth\u001b[0m\u001b[0;34m)\u001b[0m\u001b[0;34m\u001b[0m\u001b[0m\n",
      "\u001b[0;32m/home/rccguest2912/OSE2019/day1/SparseGridCode/growth_model/serial/stochastic_growth_model/TasmanianSG.py\u001b[0m in \u001b[0;36m__init__\u001b[0;34m(self, tasmanian_library)\u001b[0m\n\u001b[1;32m    105\u001b[0m         '''\n\u001b[1;32m    106\u001b[0m         \u001b[0;32mif\u001b[0m \u001b[0;34m(\u001b[0m\u001b[0misinstance\u001b[0m\u001b[0;34m(\u001b[0m\u001b[0mtasmanian_library\u001b[0m\u001b[0;34m,\u001b[0m \u001b[0mint\u001b[0m\u001b[0;34m)\u001b[0m\u001b[0;34m)\u001b[0m\u001b[0;34m:\u001b[0m\u001b[0;34m\u001b[0m\u001b[0m\n\u001b[0;32m--> 107\u001b[0;31m             \u001b[0mself\u001b[0m\u001b[0;34m.\u001b[0m\u001b[0mpLibTSG\u001b[0m \u001b[0;34m=\u001b[0m \u001b[0mcdll\u001b[0m\u001b[0;34m.\u001b[0m\u001b[0mLoadLibrary\u001b[0m\u001b[0;34m(\u001b[0m\u001b[0;34m\"../../TasmanianSparseGrids/libtasmaniansparsegrid.so\"\u001b[0m\u001b[0;34m)\u001b[0m\u001b[0;34m\u001b[0m\u001b[0m\n\u001b[0m\u001b[1;32m    108\u001b[0m         \u001b[0;32melif\u001b[0m \u001b[0;34m(\u001b[0m\u001b[0misinstance\u001b[0m\u001b[0;34m(\u001b[0m\u001b[0mtasmanian_library\u001b[0m\u001b[0;34m,\u001b[0m \u001b[0mbasestring\u001b[0m\u001b[0;34m)\u001b[0m\u001b[0;34m)\u001b[0m\u001b[0;34m:\u001b[0m\u001b[0;34m\u001b[0m\u001b[0m\n\u001b[1;32m    109\u001b[0m             \u001b[0mself\u001b[0m\u001b[0;34m.\u001b[0m\u001b[0mpLibTSG\u001b[0m \u001b[0;34m=\u001b[0m \u001b[0mcdll\u001b[0m\u001b[0;34m.\u001b[0m\u001b[0mLoadLibrary\u001b[0m\u001b[0;34m(\u001b[0m\u001b[0mtasmanian_library\u001b[0m\u001b[0;34m)\u001b[0m\u001b[0;34m\u001b[0m\u001b[0m\n",
      "\u001b[0;32m/software/python-2.7.12-el7-x86_64/lib/python2.7/ctypes/__init__.pyc\u001b[0m in \u001b[0;36mLoadLibrary\u001b[0;34m(self, name)\u001b[0m\n\u001b[1;32m    438\u001b[0m \u001b[0;34m\u001b[0m\u001b[0m\n\u001b[1;32m    439\u001b[0m     \u001b[0;32mdef\u001b[0m \u001b[0mLoadLibrary\u001b[0m\u001b[0;34m(\u001b[0m\u001b[0mself\u001b[0m\u001b[0;34m,\u001b[0m \u001b[0mname\u001b[0m\u001b[0;34m)\u001b[0m\u001b[0;34m:\u001b[0m\u001b[0;34m\u001b[0m\u001b[0m\n\u001b[0;32m--> 440\u001b[0;31m         \u001b[0;32mreturn\u001b[0m \u001b[0mself\u001b[0m\u001b[0;34m.\u001b[0m\u001b[0m_dlltype\u001b[0m\u001b[0;34m(\u001b[0m\u001b[0mname\u001b[0m\u001b[0;34m)\u001b[0m\u001b[0;34m\u001b[0m\u001b[0m\n\u001b[0m\u001b[1;32m    441\u001b[0m \u001b[0;34m\u001b[0m\u001b[0m\n\u001b[1;32m    442\u001b[0m \u001b[0mcdll\u001b[0m \u001b[0;34m=\u001b[0m \u001b[0mLibraryLoader\u001b[0m\u001b[0;34m(\u001b[0m\u001b[0mCDLL\u001b[0m\u001b[0;34m)\u001b[0m\u001b[0;34m\u001b[0m\u001b[0m\n",
      "\u001b[0;32m/software/python-2.7.12-el7-x86_64/lib/python2.7/ctypes/__init__.pyc\u001b[0m in \u001b[0;36m__init__\u001b[0;34m(self, name, mode, handle, use_errno, use_last_error)\u001b[0m\n\u001b[1;32m    360\u001b[0m \u001b[0;34m\u001b[0m\u001b[0m\n\u001b[1;32m    361\u001b[0m         \u001b[0;32mif\u001b[0m \u001b[0mhandle\u001b[0m \u001b[0;32mis\u001b[0m \u001b[0mNone\u001b[0m\u001b[0;34m:\u001b[0m\u001b[0;34m\u001b[0m\u001b[0m\n\u001b[0;32m--> 362\u001b[0;31m             \u001b[0mself\u001b[0m\u001b[0;34m.\u001b[0m\u001b[0m_handle\u001b[0m \u001b[0;34m=\u001b[0m \u001b[0m_dlopen\u001b[0m\u001b[0;34m(\u001b[0m\u001b[0mself\u001b[0m\u001b[0;34m.\u001b[0m\u001b[0m_name\u001b[0m\u001b[0;34m,\u001b[0m \u001b[0mmode\u001b[0m\u001b[0;34m)\u001b[0m\u001b[0;34m\u001b[0m\u001b[0m\n\u001b[0m\u001b[1;32m    363\u001b[0m         \u001b[0;32melse\u001b[0m\u001b[0;34m:\u001b[0m\u001b[0;34m\u001b[0m\u001b[0m\n\u001b[1;32m    364\u001b[0m             \u001b[0mself\u001b[0m\u001b[0;34m.\u001b[0m\u001b[0m_handle\u001b[0m \u001b[0;34m=\u001b[0m \u001b[0mhandle\u001b[0m\u001b[0;34m\u001b[0m\u001b[0m\n",
      "\u001b[0;31mOSError\u001b[0m: ../../TasmanianSparseGrids/libtasmaniansparsegrid.so: cannot open shared object file: No such file or directory"
     ]
    }
   ],
   "source": [
    "#======================================================================\n",
    "# Start with Value Function Iteration\n",
    "\n",
    "# terminal value function\n",
    "valnew=TasmanianSG.TasmanianSparseGrid()\n",
    "if (numstart==0):\n",
    "    valnew=interpol.sparse_grid(n_agents, iDepth)\n",
    "    valnew.write(\"valnew_1.\" + str(numstart) + \".txt\") #write file to disk for restart\n",
    "\n",
    "# value function during iteration\n",
    "else:\n",
    "    valnew.read(\"valnew_1.\" + str(numstart) + \".txt\")  #write file to disk for restart\n",
    "    \n",
    "valold=TasmanianSG.TasmanianSparseGrid()\n",
    "valold=valnew\n",
    "\n",
    "for i in range(numstart, numits):\n",
    "    valnew=TasmanianSG.TasmanianSparseGrid()\n",
    "    valnew=interpol_iter.sparse_grid_iter(n_agents, iDepth, valold)\n",
    "    valold=TasmanianSG.TasmanianSparseGrid()\n",
    "    valold=valnew\n",
    "    valnew.write(\"valnew_1.\" + str(i+1) + \".txt\")"
   ]
  },
  {
   "cell_type": "code",
   "execution_count": 7,
   "metadata": {
    "collapsed": false,
    "scrolled": true
   },
   "outputs": [
    {
     "name": "stdout",
     "output_type": "stream",
     "text": [
      "None\n"
     ]
    }
   ],
   "source": [
    "avg_err=post.ls_error(n_agents, numstart, numits, No_samples)\n",
    "print(avg_err)"
   ]
  },
  {
   "cell_type": "code",
   "execution_count": 8,
   "metadata": {
    "collapsed": true
   },
   "outputs": [],
   "source": [
    "# ADAPTIIVE SPARSE GRID"
   ]
  },
  {
   "cell_type": "code",
   "execution_count": 9,
   "metadata": {
    "collapsed": false
   },
   "outputs": [],
   "source": [
    "#======================================================================\n",
    "# Start with Value Function Iteration\n",
    "\n",
    "# terminal value function\n",
    "valnew=TasmanianSG.TasmanianSparseGrid()\n",
    "if (numstart==0):\n",
    "    valnew=interpol.adaptive_sparse_grid(n_agents, iDepth,refinement_level,fTol)\n",
    "    valnew.write(\"ad_valnew_1.\" + str(numstart) + \".txt\") #write file to disk for restart\n",
    "\n",
    "# value function during iteration\n",
    "else:\n",
    "    valnew.read(\"ad_valnew_1.\" + str(numstart) + \".txt\")  #write file to disk for restart\n",
    "    \n",
    "valold=TasmanianSG.TasmanianSparseGrid()\n",
    "valold=valnew\n",
    "\n",
    "for i in range(numstart, numits):\n",
    "    valnew=TasmanianSG.TasmanianSparseGrid()\n",
    "    valnew=interpol_iter.adaptive_sparse_grid_iter(n_agents, iDepth,refinement_level,fTol, valold)\n",
    "    valold=TasmanianSG.TasmanianSparseGrid()\n",
    "    valold=valnew\n",
    "    valnew.write(\"ad_valnew_1.\" + str(i+1) + \".txt\")"
   ]
  },
  {
   "cell_type": "code",
   "execution_count": 11,
   "metadata": {
    "collapsed": false
   },
   "outputs": [
    {
     "name": "stdout",
     "output_type": "stream",
     "text": [
      "None\n"
     ]
    }
   ],
   "source": [
    "avg_err=post.adaptive_ls_error(n_agents, numstart, numits, No_samples)\n",
    "print(avg_err)"
   ]
  }
 ],
 "metadata": {
  "kernelspec": {
   "display_name": "Python 2",
   "language": "python",
   "name": "python2"
  },
  "language_info": {
   "codemirror_mode": {
    "name": "ipython",
    "version": 2
   },
   "file_extension": ".py",
   "mimetype": "text/x-python",
   "name": "python",
   "nbconvert_exporter": "python",
   "pygments_lexer": "ipython2",
   "version": "2.7.12"
  }
 },
 "nbformat": 4,
 "nbformat_minor": 2
}
